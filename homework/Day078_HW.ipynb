{
 "cells": [
  {
   "cell_type": "markdown",
   "metadata": {},
   "source": [
    "## Work\n",
    "1. 請嘗試將 preproc_x 替換成以每筆資料的 min/max 進行標準化至 -1 ~ 1 間，再進行訓練\n",
    "2. 請嘗試將 mlp 疊更深 (e.g 5~10 層)，進行訓練後觀察 learning curve 的走勢\n",
    "3. (optional) 請改用 GPU 進行訓練 (如果你有 GPU 的話)，比較使用 CPU 與 GPU 的訓練速度"
   ]
  },
  {
   "cell_type": "code",
   "execution_count": 10,
   "metadata": {},
   "outputs": [
    {
     "data": {
      "text/plain": [
       "'\\nYour code here (optional)\\n確認硬體資源\\n'"
      ]
     },
     "execution_count": 10,
     "metadata": {},
     "output_type": "execute_result"
    }
   ],
   "source": [
    "## \n",
    "\"\"\"\n",
    "Your code here (optional)\n",
    "確認硬體資源\n",
    "\"\"\"\n"
   ]
  },
  {
   "cell_type": "code",
   "execution_count": 11,
   "metadata": {},
   "outputs": [],
   "source": [
    "import os\n",
    "import keras\n",
    "\n",
    "# 請嘗試設定 GPU：os.environ\n",
    "# 將GPU 設定為 \"無\"\n",
    "os.environ[\"CUDA_VISIBLE_DEVICES\"] = \"\""
   ]
  },
  {
   "cell_type": "code",
   "execution_count": 12,
   "metadata": {},
   "outputs": [],
   "source": [
    "train, test = keras.datasets.cifar10.load_data()"
   ]
  },
  {
   "cell_type": "code",
   "execution_count": 13,
   "metadata": {},
   "outputs": [],
   "source": [
    "## 資料前處理\n",
    "\"\"\"\n",
    "Your code here\n",
    "\"\"\"\n",
    "def preproc_y(y, num_classes=10):\n",
    "    if y.shape[-1] == 1:\n",
    "        y = keras.utils.to_categorical(y, num_classes)\n",
    "    return y    \n",
    "def preproc_x(x, flatten=True):\n",
    "    x = x / 255.\n",
    "    if flatten:\n",
    "        x = x.reshape((len(x), -1))\n",
    "    return x"
   ]
  },
  {
   "cell_type": "code",
   "execution_count": 14,
   "metadata": {},
   "outputs": [],
   "source": [
    "x_train, y_train = train\n",
    "x_test, y_test = test\n",
    "\n",
    "# Preproc the inputs\n",
    "x_train = preproc_x(x_train)\n",
    "x_test = preproc_x(x_test)\n",
    "\n",
    "# Preprc the outputs\n",
    "y_train = preproc_y(y_train)\n",
    "y_test = preproc_y(y_test)"
   ]
  },
  {
   "cell_type": "code",
   "execution_count": 15,
   "metadata": {},
   "outputs": [
    {
     "name": "stdout",
     "output_type": "stream",
     "text": [
      "_________________________________________________________________\n",
      "Layer (type)                 Output Shape              Param #   \n",
      "=================================================================\n",
      "input_2 (InputLayer)         (None, 3072)              0         \n",
      "_________________________________________________________________\n",
      "hidden_layer1 (Dense)        (None, 512)               1573376   \n",
      "_________________________________________________________________\n",
      "hidden_layer2 (Dense)        (None, 256)               131328    \n",
      "_________________________________________________________________\n",
      "hidden_layer3 (Dense)        (None, 128)               32896     \n",
      "_________________________________________________________________\n",
      "output (Dense)               (None, 10)                1290      \n",
      "=================================================================\n",
      "Total params: 1,738,890\n",
      "Trainable params: 1,738,890\n",
      "Non-trainable params: 0\n",
      "_________________________________________________________________\n"
     ]
    }
   ],
   "source": [
    "\"\"\"Code Here\n",
    "建立你的神經網路\n",
    "\"\"\"\n",
    "def build_mlp(input_shape, output_units=10, num_neurons=[512, 256, 128]):\n",
    "    input_layer = keras.layers.Input(input_shape)\n",
    "    \n",
    "    for i, n_units in enumerate(num_neurons):\n",
    "        if i == 0:\n",
    "            x = keras.layers.Dense(units=n_units, activation=\"relu\", name=\"hidden_layer\"+str(i+1))(input_layer)\n",
    "        else:\n",
    "            x = keras.layers.Dense(units=n_units, activation=\"relu\", name=\"hidden_layer\"+str(i+1))(x)\n",
    "\n",
    "    \n",
    "    out = keras.layers.Dense(units=output_units, activation=\"softmax\", name=\"output\")(x)\n",
    "    \n",
    "    model = keras.models.Model(inputs=[input_layer], outputs=[out])\n",
    "    return model\n",
    "model = build_mlp(input_shape=x_train.shape[1:])\n",
    "model.summary()"
   ]
  },
  {
   "cell_type": "code",
   "execution_count": 16,
   "metadata": {},
   "outputs": [],
   "source": [
    "## 超參數設定\n",
    "LEARNING_RATE = 0.001\n",
    "EPOCHS = 100\n",
    "BATCH_SIZE = 256"
   ]
  },
  {
   "cell_type": "code",
   "execution_count": 17,
   "metadata": {},
   "outputs": [],
   "source": [
    "optimizer = keras.optimizers.Adam(lr=LEARNING_RATE)\n",
    "model.compile(loss=\"categorical_crossentropy\", metrics=[\"accuracy\"], optimizer=optimizer)"
   ]
  },
  {
   "cell_type": "code",
   "execution_count": 18,
   "metadata": {},
   "outputs": [
    {
     "name": "stderr",
     "output_type": "stream",
     "text": [
      "W0724 15:47:22.003696  7272 deprecation.py:323] From C:\\ProgramData\\Anaconda3\\lib\\site-packages\\tensorflow\\python\\ops\\math_grad.py:1250: add_dispatch_support.<locals>.wrapper (from tensorflow.python.ops.array_ops) is deprecated and will be removed in a future version.\n",
      "Instructions for updating:\n",
      "Use tf.where in 2.0, which has the same broadcast rule as np.where\n",
      "W0724 15:47:22.046582  7272 deprecation_wrapper.py:119] From C:\\ProgramData\\Anaconda3\\lib\\site-packages\\keras\\backend\\tensorflow_backend.py:986: The name tf.assign_add is deprecated. Please use tf.compat.v1.assign_add instead.\n",
      "\n"
     ]
    },
    {
     "name": "stdout",
     "output_type": "stream",
     "text": [
      "Train on 50000 samples, validate on 10000 samples\n",
      "Epoch 1/100\n",
      "50000/50000 [==============================] - 7s 131us/step - loss: 1.9432 - acc: 0.3004 - val_loss: 1.7525 - val_acc: 0.3707\n",
      "Epoch 2/100\n",
      "50000/50000 [==============================] - 6s 128us/step - loss: 1.7198 - acc: 0.3823 - val_loss: 1.6755 - val_acc: 0.4002\n",
      "Epoch 3/100\n",
      "50000/50000 [==============================] - 6s 126us/step - loss: 1.6234 - acc: 0.4222 - val_loss: 1.5794 - val_acc: 0.4328\n",
      "Epoch 4/100\n",
      "50000/50000 [==============================] - 6s 127us/step - loss: 1.5589 - acc: 0.4444 - val_loss: 1.5449 - val_acc: 0.4473\n",
      "Epoch 5/100\n",
      "50000/50000 [==============================] - 6s 123us/step - loss: 1.5095 - acc: 0.4628 - val_loss: 1.5136 - val_acc: 0.4619\n",
      "Epoch 6/100\n",
      "50000/50000 [==============================] - 7s 130us/step - loss: 1.4790 - acc: 0.4736 - val_loss: 1.5798 - val_acc: 0.4365\n",
      "Epoch 7/100\n",
      "50000/50000 [==============================] - 7s 143us/step - loss: 1.4356 - acc: 0.4884 - val_loss: 1.4701 - val_acc: 0.4764\n",
      "Epoch 8/100\n",
      "50000/50000 [==============================] - 7s 132us/step - loss: 1.4113 - acc: 0.4971 - val_loss: 1.4362 - val_acc: 0.4857\n",
      "Epoch 9/100\n",
      "50000/50000 [==============================] - 6s 123us/step - loss: 1.3800 - acc: 0.5082 - val_loss: 1.4421 - val_acc: 0.4874\n",
      "Epoch 10/100\n",
      "50000/50000 [==============================] - 6s 123us/step - loss: 1.3583 - acc: 0.5151 - val_loss: 1.4316 - val_acc: 0.4918\n",
      "Epoch 11/100\n",
      "50000/50000 [==============================] - 6s 123us/step - loss: 1.3294 - acc: 0.5276 - val_loss: 1.4024 - val_acc: 0.5020\n",
      "Epoch 12/100\n",
      "50000/50000 [==============================] - 6s 126us/step - loss: 1.2984 - acc: 0.5388 - val_loss: 1.4299 - val_acc: 0.4891\n",
      "Epoch 13/100\n",
      "50000/50000 [==============================] - 6s 126us/step - loss: 1.2824 - acc: 0.5426 - val_loss: 1.4022 - val_acc: 0.5056\n",
      "Epoch 14/100\n",
      "50000/50000 [==============================] - 6s 124us/step - loss: 1.2558 - acc: 0.5535 - val_loss: 1.4081 - val_acc: 0.5036\n",
      "Epoch 15/100\n",
      "50000/50000 [==============================] - 7s 131us/step - loss: 1.2274 - acc: 0.5655 - val_loss: 1.3848 - val_acc: 0.5098\n",
      "Epoch 16/100\n",
      "50000/50000 [==============================] - 7s 141us/step - loss: 1.2125 - acc: 0.5691 - val_loss: 1.3535 - val_acc: 0.5248\n",
      "Epoch 17/100\n",
      "50000/50000 [==============================] - 6s 127us/step - loss: 1.1811 - acc: 0.5792 - val_loss: 1.3896 - val_acc: 0.5129\n",
      "Epoch 18/100\n",
      "50000/50000 [==============================] - 6s 124us/step - loss: 1.1603 - acc: 0.5878 - val_loss: 1.4158 - val_acc: 0.5043\n",
      "Epoch 19/100\n",
      "50000/50000 [==============================] - 6s 129us/step - loss: 1.1522 - acc: 0.5884 - val_loss: 1.3784 - val_acc: 0.5158\n",
      "Epoch 20/100\n",
      "50000/50000 [==============================] - 7s 130us/step - loss: 1.1281 - acc: 0.5983 - val_loss: 1.3668 - val_acc: 0.5203\n",
      "Epoch 21/100\n",
      "50000/50000 [==============================] - 6s 128us/step - loss: 1.1120 - acc: 0.6031 - val_loss: 1.3928 - val_acc: 0.5143\n",
      "Epoch 22/100\n",
      "50000/50000 [==============================] - 6s 124us/step - loss: 1.0940 - acc: 0.6099 - val_loss: 1.3892 - val_acc: 0.5178\n",
      "Epoch 23/100\n",
      "50000/50000 [==============================] - 6s 122us/step - loss: 1.0688 - acc: 0.6192 - val_loss: 1.3681 - val_acc: 0.5204\n",
      "Epoch 24/100\n",
      "50000/50000 [==============================] - 6s 125us/step - loss: 1.0567 - acc: 0.6231 - val_loss: 1.3823 - val_acc: 0.5228\n",
      "Epoch 25/100\n",
      "50000/50000 [==============================] - 6s 126us/step - loss: 1.0346 - acc: 0.6296 - val_loss: 1.3645 - val_acc: 0.5271\n",
      "Epoch 26/100\n",
      "50000/50000 [==============================] - 6s 124us/step - loss: 1.0121 - acc: 0.6403 - val_loss: 1.3941 - val_acc: 0.5193\n",
      "Epoch 27/100\n",
      "50000/50000 [==============================] - 6s 125us/step - loss: 1.0010 - acc: 0.6426 - val_loss: 1.4215 - val_acc: 0.5145\n",
      "Epoch 28/100\n",
      "50000/50000 [==============================] - 6s 122us/step - loss: 0.9922 - acc: 0.6487 - val_loss: 1.4301 - val_acc: 0.5241\n",
      "Epoch 29/100\n",
      "50000/50000 [==============================] - 6s 123us/step - loss: 0.9701 - acc: 0.6559 - val_loss: 1.4423 - val_acc: 0.5220\n",
      "Epoch 30/100\n",
      "50000/50000 [==============================] - 6s 125us/step - loss: 0.9519 - acc: 0.6604 - val_loss: 1.4721 - val_acc: 0.5206\n",
      "Epoch 31/100\n",
      "50000/50000 [==============================] - 6s 125us/step - loss: 0.9275 - acc: 0.6688 - val_loss: 1.4283 - val_acc: 0.5288\n",
      "Epoch 32/100\n",
      "50000/50000 [==============================] - 6s 125us/step - loss: 0.9218 - acc: 0.6696 - val_loss: 1.4894 - val_acc: 0.5175\n",
      "Epoch 33/100\n",
      "50000/50000 [==============================] - 6s 128us/step - loss: 0.8942 - acc: 0.6801 - val_loss: 1.4624 - val_acc: 0.5244\n",
      "Epoch 34/100\n",
      "50000/50000 [==============================] - 6s 121us/step - loss: 0.8723 - acc: 0.6880 - val_loss: 1.5393 - val_acc: 0.5010\n",
      "Epoch 35/100\n",
      "50000/50000 [==============================] - 6s 125us/step - loss: 0.8607 - acc: 0.6917 - val_loss: 1.4947 - val_acc: 0.5267\n",
      "Epoch 36/100\n",
      "50000/50000 [==============================] - 6s 124us/step - loss: 0.8476 - acc: 0.6973 - val_loss: 1.4912 - val_acc: 0.5272\n",
      "Epoch 37/100\n",
      "50000/50000 [==============================] - 6s 124us/step - loss: 0.8384 - acc: 0.6998 - val_loss: 1.5467 - val_acc: 0.5218\n",
      "Epoch 38/100\n",
      "50000/50000 [==============================] - 6s 123us/step - loss: 0.8188 - acc: 0.7093 - val_loss: 1.4952 - val_acc: 0.5282\n",
      "Epoch 39/100\n",
      "50000/50000 [==============================] - 6s 126us/step - loss: 0.8074 - acc: 0.7118 - val_loss: 1.5353 - val_acc: 0.5184\n",
      "Epoch 40/100\n",
      "50000/50000 [==============================] - 6s 122us/step - loss: 0.7809 - acc: 0.7203 - val_loss: 1.5667 - val_acc: 0.5258\n",
      "Epoch 41/100\n",
      "50000/50000 [==============================] - 6s 122us/step - loss: 0.7605 - acc: 0.7292 - val_loss: 1.5675 - val_acc: 0.5234\n",
      "Epoch 42/100\n",
      "50000/50000 [==============================] - 6s 127us/step - loss: 0.7539 - acc: 0.7314 - val_loss: 1.6196 - val_acc: 0.5199\n",
      "Epoch 43/100\n",
      "50000/50000 [==============================] - 6s 128us/step - loss: 0.7427 - acc: 0.7325 - val_loss: 1.6498 - val_acc: 0.5043\n",
      "Epoch 44/100\n",
      "50000/50000 [==============================] - 6s 127us/step - loss: 0.7201 - acc: 0.7416 - val_loss: 1.6539 - val_acc: 0.5200\n",
      "Epoch 45/100\n",
      "50000/50000 [==============================] - 7s 131us/step - loss: 0.7121 - acc: 0.7445 - val_loss: 1.6344 - val_acc: 0.5207\n",
      "Epoch 46/100\n",
      "50000/50000 [==============================] - 6s 122us/step - loss: 0.6922 - acc: 0.7536 - val_loss: 1.6676 - val_acc: 0.5226\n",
      "Epoch 47/100\n",
      "50000/50000 [==============================] - 6s 123us/step - loss: 0.6810 - acc: 0.7570 - val_loss: 1.6799 - val_acc: 0.5221\n",
      "Epoch 48/100\n",
      "50000/50000 [==============================] - 6s 123us/step - loss: 0.6742 - acc: 0.7602 - val_loss: 1.7089 - val_acc: 0.5140\n",
      "Epoch 49/100\n",
      "50000/50000 [==============================] - 6s 129us/step - loss: 0.6601 - acc: 0.7644 - val_loss: 1.7197 - val_acc: 0.5185\n",
      "Epoch 50/100\n",
      "50000/50000 [==============================] - 6s 127us/step - loss: 0.6530 - acc: 0.7642 - val_loss: 1.7360 - val_acc: 0.5278\n",
      "Epoch 51/100\n",
      "50000/50000 [==============================] - 6s 124us/step - loss: 0.6285 - acc: 0.7768 - val_loss: 1.7918 - val_acc: 0.5149\n",
      "Epoch 52/100\n",
      "50000/50000 [==============================] - 6s 121us/step - loss: 0.6385 - acc: 0.7718 - val_loss: 1.8133 - val_acc: 0.5199\n",
      "Epoch 53/100\n",
      "50000/50000 [==============================] - 6s 127us/step - loss: 0.6116 - acc: 0.7822 - val_loss: 1.8453 - val_acc: 0.5208\n",
      "Epoch 54/100\n",
      "50000/50000 [==============================] - 6s 120us/step - loss: 0.5970 - acc: 0.7871 - val_loss: 1.9181 - val_acc: 0.5118\n",
      "Epoch 55/100\n",
      "50000/50000 [==============================] - 6s 123us/step - loss: 0.5922 - acc: 0.7893 - val_loss: 1.8519 - val_acc: 0.5172\n",
      "Epoch 56/100\n",
      "50000/50000 [==============================] - 7s 131us/step - loss: 0.5720 - acc: 0.7973 - val_loss: 1.8833 - val_acc: 0.5131\n",
      "Epoch 57/100\n",
      "50000/50000 [==============================] - 6s 128us/step - loss: 0.5698 - acc: 0.7973 - val_loss: 1.9524 - val_acc: 0.5042\n",
      "Epoch 58/100\n",
      "50000/50000 [==============================] - 6s 128us/step - loss: 0.5697 - acc: 0.7958 - val_loss: 1.9839 - val_acc: 0.5160\n",
      "Epoch 59/100\n"
     ]
    },
    {
     "name": "stdout",
     "output_type": "stream",
     "text": [
      "50000/50000 [==============================] - 6s 121us/step - loss: 0.5527 - acc: 0.8014 - val_loss: 1.9840 - val_acc: 0.5118\n",
      "Epoch 60/100\n",
      "50000/50000 [==============================] - 6s 121us/step - loss: 0.5408 - acc: 0.8058 - val_loss: 1.9796 - val_acc: 0.5099\n",
      "Epoch 61/100\n",
      "50000/50000 [==============================] - 6s 123us/step - loss: 0.5320 - acc: 0.8098 - val_loss: 2.0166 - val_acc: 0.5040\n",
      "Epoch 62/100\n",
      "50000/50000 [==============================] - 6s 121us/step - loss: 0.5393 - acc: 0.8044 - val_loss: 2.0208 - val_acc: 0.5037\n",
      "Epoch 63/100\n",
      "50000/50000 [==============================] - 6s 122us/step - loss: 0.5182 - acc: 0.8155 - val_loss: 2.1083 - val_acc: 0.5024\n",
      "Epoch 64/100\n",
      "50000/50000 [==============================] - 6s 122us/step - loss: 0.5086 - acc: 0.8181 - val_loss: 2.1217 - val_acc: 0.5006\n",
      "Epoch 65/100\n",
      "50000/50000 [==============================] - 6s 122us/step - loss: 0.4878 - acc: 0.8253 - val_loss: 2.1281 - val_acc: 0.5015\n",
      "Epoch 66/100\n",
      "50000/50000 [==============================] - 6s 125us/step - loss: 0.4951 - acc: 0.8222 - val_loss: 2.2246 - val_acc: 0.5046\n",
      "Epoch 67/100\n",
      "50000/50000 [==============================] - 6s 123us/step - loss: 0.4745 - acc: 0.8314 - val_loss: 2.1645 - val_acc: 0.5108\n",
      "Epoch 68/100\n",
      "50000/50000 [==============================] - 6s 123us/step - loss: 0.4665 - acc: 0.8341 - val_loss: 2.3140 - val_acc: 0.4963\n",
      "Epoch 69/100\n",
      "50000/50000 [==============================] - 6s 123us/step - loss: 0.4700 - acc: 0.8319 - val_loss: 2.2295 - val_acc: 0.5050\n",
      "Epoch 70/100\n",
      "50000/50000 [==============================] - 6s 122us/step - loss: 0.4558 - acc: 0.8349 - val_loss: 2.2587 - val_acc: 0.5024\n",
      "Epoch 71/100\n",
      "50000/50000 [==============================] - 6s 124us/step - loss: 0.4512 - acc: 0.8398 - val_loss: 2.2278 - val_acc: 0.5112\n",
      "Epoch 72/100\n",
      "50000/50000 [==============================] - 6s 121us/step - loss: 0.4378 - acc: 0.8440 - val_loss: 2.3599 - val_acc: 0.5026\n",
      "Epoch 73/100\n",
      "50000/50000 [==============================] - 6s 122us/step - loss: 0.4281 - acc: 0.8474 - val_loss: 2.4012 - val_acc: 0.4982\n",
      "Epoch 74/100\n",
      "50000/50000 [==============================] - 6s 124us/step - loss: 0.4271 - acc: 0.8468 - val_loss: 2.3697 - val_acc: 0.4995\n",
      "Epoch 75/100\n",
      "50000/50000 [==============================] - 7s 132us/step - loss: 0.4381 - acc: 0.8434 - val_loss: 2.4013 - val_acc: 0.5012\n",
      "Epoch 76/100\n",
      "50000/50000 [==============================] - 6s 128us/step - loss: 0.4067 - acc: 0.8546 - val_loss: 2.4596 - val_acc: 0.5005\n",
      "Epoch 77/100\n",
      "50000/50000 [==============================] - 6s 122us/step - loss: 0.4071 - acc: 0.8548 - val_loss: 2.5094 - val_acc: 0.4911\n",
      "Epoch 78/100\n",
      "50000/50000 [==============================] - 6s 128us/step - loss: 0.4202 - acc: 0.8475 - val_loss: 2.4871 - val_acc: 0.5021\n",
      "Epoch 79/100\n",
      "50000/50000 [==============================] - 7s 130us/step - loss: 0.4134 - acc: 0.8512 - val_loss: 2.4758 - val_acc: 0.4973\n",
      "Epoch 80/100\n",
      "50000/50000 [==============================] - 6s 125us/step - loss: 0.3772 - acc: 0.8660 - val_loss: 2.6114 - val_acc: 0.5012\n",
      "Epoch 81/100\n",
      "50000/50000 [==============================] - 6s 128us/step - loss: 0.4008 - acc: 0.8551 - val_loss: 2.5506 - val_acc: 0.4888\n",
      "Epoch 82/100\n",
      "50000/50000 [==============================] - 6s 126us/step - loss: 0.3823 - acc: 0.8624 - val_loss: 2.5705 - val_acc: 0.4972\n",
      "Epoch 83/100\n",
      "50000/50000 [==============================] - 6s 124us/step - loss: 0.3631 - acc: 0.8709 - val_loss: 2.5803 - val_acc: 0.4976\n",
      "Epoch 84/100\n",
      "50000/50000 [==============================] - 6s 127us/step - loss: 0.3741 - acc: 0.8674 - val_loss: 2.6963 - val_acc: 0.4912loss: 0.\n",
      "Epoch 85/100\n",
      "50000/50000 [==============================] - 6s 124us/step - loss: 0.3928 - acc: 0.8575 - val_loss: 2.5727 - val_acc: 0.5018\n",
      "Epoch 86/100\n",
      "50000/50000 [==============================] - 6s 125us/step - loss: 0.3411 - acc: 0.8781 - val_loss: 2.7032 - val_acc: 0.5004\n",
      "Epoch 87/100\n",
      "50000/50000 [==============================] - 6s 124us/step - loss: 0.3481 - acc: 0.8760 - val_loss: 2.8026 - val_acc: 0.5021\n",
      "Epoch 88/100\n",
      "50000/50000 [==============================] - 6s 125us/step - loss: 0.3604 - acc: 0.8693 - val_loss: 2.7000 - val_acc: 0.5007\n",
      "Epoch 89/100\n",
      "50000/50000 [==============================] - 6s 126us/step - loss: 0.3602 - acc: 0.8702 - val_loss: 2.7328 - val_acc: 0.5008\n",
      "Epoch 90/100\n",
      "50000/50000 [==============================] - 6s 125us/step - loss: 0.3381 - acc: 0.8788 - val_loss: 2.7290 - val_acc: 0.5041\n",
      "Epoch 91/100\n",
      "50000/50000 [==============================] - 6s 125us/step - loss: 0.3295 - acc: 0.8829 - val_loss: 2.8748 - val_acc: 0.4965\n",
      "Epoch 92/100\n",
      "50000/50000 [==============================] - 6s 125us/step - loss: 0.3276 - acc: 0.8820 - val_loss: 2.8580 - val_acc: 0.5009\n",
      "Epoch 93/100\n",
      "50000/50000 [==============================] - 6s 125us/step - loss: 0.3313 - acc: 0.8809 - val_loss: 2.8308 - val_acc: 0.4985\n",
      "Epoch 94/100\n",
      "50000/50000 [==============================] - 6s 126us/step - loss: 0.3238 - acc: 0.8848 - val_loss: 2.8565 - val_acc: 0.5069\n",
      "Epoch 95/100\n",
      "50000/50000 [==============================] - 6s 125us/step - loss: 0.3152 - acc: 0.8872 - val_loss: 2.8250 - val_acc: 0.5050\n",
      "Epoch 96/100\n",
      "50000/50000 [==============================] - 6s 124us/step - loss: 0.3256 - acc: 0.8836 - val_loss: 3.0378 - val_acc: 0.4953\n",
      "Epoch 97/100\n",
      "50000/50000 [==============================] - 6s 127us/step - loss: 0.3188 - acc: 0.8853 - val_loss: 2.9694 - val_acc: 0.4993\n",
      "Epoch 98/100\n",
      "50000/50000 [==============================] - 6s 125us/step - loss: 0.3094 - acc: 0.8889 - val_loss: 2.9819 - val_acc: 0.4928\n",
      "Epoch 99/100\n",
      "50000/50000 [==============================] - 6s 126us/step - loss: 0.2891 - acc: 0.8963 - val_loss: 2.9349 - val_acc: 0.5029\n",
      "Epoch 100/100\n",
      "50000/50000 [==============================] - 6s 125us/step - loss: 0.3006 - acc: 0.8931 - val_loss: 3.0756 - val_acc: 0.4954\n"
     ]
    },
    {
     "data": {
      "text/plain": [
       "<keras.callbacks.History at 0x1a20950c8d0>"
      ]
     },
     "execution_count": 18,
     "metadata": {},
     "output_type": "execute_result"
    }
   ],
   "source": [
    "model.fit(x_train, y_train, \n",
    "          epochs=EPOCHS, \n",
    "          batch_size=BATCH_SIZE, \n",
    "          validation_data=(x_test, y_test), \n",
    "          shuffle=True)"
   ]
  },
  {
   "cell_type": "code",
   "execution_count": 20,
   "metadata": {},
   "outputs": [
    {
     "data": {
      "image/png": "[encoded data removed]",
      "text/plain": [
       "<Figure size 432x288 with 1 Axes>"
      ]
     },
     "metadata": {
      "needs_background": "light"
     },
     "output_type": "display_data"
    },
    {
     "data": {
      "image/png": "[encoded data removed]",
      "text/plain": [
       "<Figure size 432x288 with 1 Axes>"
      ]
     },
     "metadata": {
      "needs_background": "light"
     },
     "output_type": "display_data"
    }
   ],
   "source": [
    "import matplotlib.pyplot as plt\n",
    "\n",
    "\n",
    "train_loss = model.history.history[\"loss\"]\n",
    "valid_loss = model.history.history[\"val_loss\"]\n",
    "\n",
    "train_acc = model.history.history[\"acc\"]\n",
    "valid_acc = model.history.history[\"val_acc\"]\n",
    "\n",
    "plt.plot(range(len(train_loss)), train_loss, label=\"train loss\")\n",
    "plt.plot(range(len(valid_loss)), valid_loss, label=\"valid loss\")\n",
    "plt.legend()\n",
    "plt.title(\"Loss\")\n",
    "plt.show()\n",
    "\n",
    "plt.plot(range(len(train_acc)), train_acc, label=\"train accuracy\")\n",
    "plt.plot(range(len(valid_acc)), valid_acc, label=\"valid accuracy\")\n",
    "plt.legend()\n",
    "plt.title(\"Accuracy\")\n",
    "plt.show()"
   ]
  },
  {
   "cell_type": "code",
   "execution_count": null,
   "metadata": {},
   "outputs": [],
   "source": []
  }
 ],
 "metadata": {
  "kernelspec": {
   "display_name": "Python 3",
   "language": "python",
   "name": "python3"
  },
  "language_info": {
   "codemirror_mode": {
    "name": "ipython",
    "version": 3
   },
   "file_extension": ".py",
   "mimetype": "text/x-python",
   "name": "python",
   "nbconvert_exporter": "python",
   "pygments_lexer": "ipython3",
   "version": "3.7.3"
  }
 },
 "nbformat": 4,
 "nbformat_minor": 2
}
