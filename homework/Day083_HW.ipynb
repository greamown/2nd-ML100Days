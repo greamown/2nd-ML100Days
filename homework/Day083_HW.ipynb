{
 "cells": [
  {
   "cell_type": "markdown",
   "metadata": {},
   "source": [
    "## Work\n",
    "1. 試比較有 BN 在 Batch_size = 2, 16, 32, 128, 256 下的差異\n",
    "2. 請嘗試將 BN 放在 Activation 之前，並比較訓練結果\n",
    "3. 請於 BN 放在 Input Layer 後，並比較結果"
   ]
  },
  {
   "cell_type": "code",
   "execution_count": 1,
   "metadata": {},
   "outputs": [
    {
     "name": "stderr",
     "output_type": "stream",
     "text": [
      "Using TensorFlow backend.\n"
     ]
    }
   ],
   "source": [
    "import os\n",
    "import keras\n",
    "import itertools\n",
    "# Disable GPU\n",
    "os.environ[\"CUDA_VISIBLE_DEVICES\"] = \"\""
   ]
  },
  {
   "cell_type": "code",
   "execution_count": 2,
   "metadata": {},
   "outputs": [],
   "source": [
    "train, test = keras.datasets.cifar10.load_data()"
   ]
  },
  {
   "cell_type": "code",
   "execution_count": 3,
   "metadata": {},
   "outputs": [],
   "source": [
    "## 資料前處理\n",
    "def preproc_x(x, flatten=True):\n",
    "    x = x / 255.\n",
    "    if flatten:\n",
    "        x = x.reshape((len(x), -1))\n",
    "    return x\n",
    "\n",
    "def preproc_y(y, num_classes=10):\n",
    "    if y.shape[-1] == 1:\n",
    "        y = keras.utils.to_categorical(y, num_classes)\n",
    "    return y    "
   ]
  },
  {
   "cell_type": "code",
   "execution_count": 4,
   "metadata": {},
   "outputs": [],
   "source": [
    "x_train, y_train = train\n",
    "x_test, y_test = test\n",
    "\n",
    "# Preproc the inputs\n",
    "x_train = preproc_x(x_train)\n",
    "x_test = preproc_x(x_test)\n",
    "\n",
    "# Preprc the outputs\n",
    "y_train = preproc_y(y_train)\n",
    "y_test = preproc_y(y_test)"
   ]
  },
  {
   "cell_type": "code",
   "execution_count": 5,
   "metadata": {},
   "outputs": [],
   "source": [
    "from keras.layers import BatchNormalization\n",
    "\n",
    "\"\"\"\n",
    "建立神經網路，並加入 BN layer\n",
    "\"\"\"\n",
    "def build_mlp(input_shape, output_units=10, num_neurons=[512, 256, 128]):\n",
    "    \"\"\"Code Here\n",
    "    建立你的神經網路\n",
    "    \"\"\"\n",
    "    input_layer = keras.layers.Input(input_shape)\n",
    "    \n",
    "    for i, n_units in enumerate(num_neurons):\n",
    "        if i == 0:\n",
    "            x = keras.layers.Dense(units=n_units, \n",
    "                                   activation=\"relu\", \n",
    "                                   name=\"hidden_layer\"+str(i+1))(input_layer)\n",
    "            x = BatchNormalization()(x)\n",
    "        else:\n",
    "            x = keras.layers.Dense(units=n_units, \n",
    "                                   activation=\"relu\", \n",
    "                                   name=\"hidden_layer\"+str(i+1))(x)\n",
    "            x = BatchNormalization()(x)\n",
    "    \n",
    "    out = keras.layers.Dense(units=output_units, activation=\"softmax\", name=\"output\")(x)\n",
    "    \n",
    "    model = keras.models.Model(inputs=[input_layer], outputs=[out])    \n",
    "    return model"
   ]
  },
  {
   "cell_type": "code",
   "execution_count": 6,
   "metadata": {},
   "outputs": [],
   "source": [
    "\"\"\"Code Here\n",
    "設定超參數\n",
    "\"\"\"\n",
    "LEARNING_RATE = 1e-3\n",
    "EPOCHS = 50\n",
    "# BATCH_SIZE = [2, 16, 32, 128, 256]\n",
    "BATCH_SIZE = [256]\n",
    "MOMENTUM = 0.95"
   ]
  },
  {
   "cell_type": "code",
   "execution_count": 7,
   "metadata": {
    "scrolled": true
   },
   "outputs": [
    {
     "name": "stderr",
     "output_type": "stream",
     "text": [
      "WARNING: Logging before flag parsing goes to stderr.\n",
      "W0729 11:57:32.549585  7264 deprecation_wrapper.py:119] From C:\\ProgramData\\Anaconda3\\lib\\site-packages\\keras\\backend\\tensorflow_backend.py:95: The name tf.reset_default_graph is deprecated. Please use tf.compat.v1.reset_default_graph instead.\n",
      "\n",
      "W0729 11:57:32.550582  7264 deprecation_wrapper.py:119] From C:\\ProgramData\\Anaconda3\\lib\\site-packages\\keras\\backend\\tensorflow_backend.py:98: The name tf.placeholder_with_default is deprecated. Please use tf.compat.v1.placeholder_with_default instead.\n",
      "\n",
      "W0729 11:57:32.568535  7264 deprecation_wrapper.py:119] From C:\\ProgramData\\Anaconda3\\lib\\site-packages\\keras\\backend\\tensorflow_backend.py:102: The name tf.get_default_graph is deprecated. Please use tf.compat.v1.get_default_graph instead.\n",
      "\n",
      "W0729 11:57:32.568535  7264 deprecation_wrapper.py:119] From C:\\ProgramData\\Anaconda3\\lib\\site-packages\\keras\\backend\\tensorflow_backend.py:517: The name tf.placeholder is deprecated. Please use tf.compat.v1.placeholder instead.\n",
      "\n",
      "W0729 11:57:32.571528  7264 deprecation_wrapper.py:119] From C:\\ProgramData\\Anaconda3\\lib\\site-packages\\keras\\backend\\tensorflow_backend.py:4138: The name tf.random_uniform is deprecated. Please use tf.random.uniform instead.\n",
      "\n"
     ]
    },
    {
     "name": "stdout",
     "output_type": "stream",
     "text": [
      "Experiment with BATCH_SIZE = 256.000000\n"
     ]
    },
    {
     "name": "stderr",
     "output_type": "stream",
     "text": [
      "W0729 11:57:32.870732  7264 deprecation_wrapper.py:119] From C:\\ProgramData\\Anaconda3\\lib\\site-packages\\keras\\optimizers.py:790: The name tf.train.Optimizer is deprecated. Please use tf.compat.v1.train.Optimizer instead.\n",
      "\n",
      "W0729 11:57:32.955387  7264 deprecation.py:323] From C:\\ProgramData\\Anaconda3\\lib\\site-packages\\tensorflow\\python\\ops\\math_grad.py:1250: add_dispatch_support.<locals>.wrapper (from tensorflow.python.ops.array_ops) is deprecated and will be removed in a future version.\n",
      "Instructions for updating:\n",
      "Use tf.where in 2.0, which has the same broadcast rule as np.where\n"
     ]
    },
    {
     "name": "stdout",
     "output_type": "stream",
     "text": [
      "_________________________________________________________________\n",
      "Layer (type)                 Output Shape              Param #   \n",
      "=================================================================\n",
      "input_1 (InputLayer)         (None, 3072)              0         \n",
      "_________________________________________________________________\n",
      "hidden_layer1 (Dense)        (None, 512)               1573376   \n",
      "_________________________________________________________________\n",
      "batch_normalization_1 (Batch (None, 512)               2048      \n",
      "_________________________________________________________________\n",
      "hidden_layer2 (Dense)        (None, 256)               131328    \n",
      "_________________________________________________________________\n",
      "batch_normalization_2 (Batch (None, 256)               1024      \n",
      "_________________________________________________________________\n",
      "hidden_layer3 (Dense)        (None, 128)               32896     \n",
      "_________________________________________________________________\n",
      "batch_normalization_3 (Batch (None, 128)               512       \n",
      "_________________________________________________________________\n",
      "output (Dense)               (None, 10)                1290      \n",
      "=================================================================\n",
      "Total params: 1,742,474\n",
      "Trainable params: 1,740,682\n",
      "Non-trainable params: 1,792\n",
      "_________________________________________________________________\n",
      "Train on 50000 samples, validate on 10000 samples\n",
      "Epoch 1/50\n",
      "50000/50000 [==============================] - 13s 267us/step - loss: 1.7286 - acc: 0.3942 - val_loss: 1.6033 - val_acc: 0.4328\n",
      "Epoch 2/50\n",
      "50000/50000 [==============================] - 12s 247us/step - loss: 1.4945 - acc: 0.4686 - val_loss: 1.5764 - val_acc: 0.4371\n",
      "Epoch 3/50\n",
      "50000/50000 [==============================] - 13s 266us/step - loss: 1.4073 - acc: 0.5029 - val_loss: 1.4520 - val_acc: 0.4846\n",
      "Epoch 4/50\n",
      "50000/50000 [==============================] - 12s 248us/step - loss: 1.3365 - acc: 0.5266 - val_loss: 1.5975 - val_acc: 0.4321\n",
      "Epoch 5/50\n",
      "50000/50000 [==============================] - 12s 247us/step - loss: 1.2960 - acc: 0.5435 - val_loss: 1.4801 - val_acc: 0.4825\n",
      "Epoch 6/50\n",
      "50000/50000 [==============================] - 12s 241us/step - loss: 1.2473 - acc: 0.5579 - val_loss: 1.6348 - val_acc: 0.4436\n",
      "Epoch 7/50\n",
      "50000/50000 [==============================] - 12s 246us/step - loss: 1.2135 - acc: 0.5701 - val_loss: 1.4971 - val_acc: 0.4724\n",
      "Epoch 8/50\n",
      "50000/50000 [==============================] - 13s 254us/step - loss: 1.1801 - acc: 0.5846 - val_loss: 1.4561 - val_acc: 0.4865\n",
      "Epoch 9/50\n",
      "50000/50000 [==============================] - 13s 253us/step - loss: 1.1466 - acc: 0.5937 - val_loss: 1.4345 - val_acc: 0.4930\n",
      "Epoch 10/50\n",
      "50000/50000 [==============================] - 13s 266us/step - loss: 1.1277 - acc: 0.6007 - val_loss: 1.5017 - val_acc: 0.4709\n",
      "Epoch 11/50\n",
      "50000/50000 [==============================] - 13s 255us/step - loss: 1.0983 - acc: 0.6108 - val_loss: 1.4539 - val_acc: 0.4913\n",
      "Epoch 12/50\n",
      "50000/50000 [==============================] - 12s 238us/step - loss: 1.0682 - acc: 0.6206 - val_loss: 1.4876 - val_acc: 0.4819\n",
      "Epoch 13/50\n",
      "50000/50000 [==============================] - 11s 229us/step - loss: 1.0500 - acc: 0.6258 - val_loss: 1.4576 - val_acc: 0.5006\n",
      "Epoch 14/50\n",
      "50000/50000 [==============================] - 11s 226us/step - loss: 1.0167 - acc: 0.6398 - val_loss: 1.5627 - val_acc: 0.4621\n",
      "Epoch 15/50\n",
      "50000/50000 [==============================] - 11s 229us/step - loss: 0.9979 - acc: 0.6462 - val_loss: 1.5418 - val_acc: 0.4817\n",
      "Epoch 16/50\n",
      "50000/50000 [==============================] - 11s 228us/step - loss: 0.9789 - acc: 0.6561 - val_loss: 1.5512 - val_acc: 0.4868\n",
      "Epoch 17/50\n",
      "50000/50000 [==============================] - 11s 228us/step - loss: 0.9564 - acc: 0.6606 - val_loss: 1.5858 - val_acc: 0.4804\n",
      "Epoch 18/50\n",
      "50000/50000 [==============================] - 11s 227us/step - loss: 0.9425 - acc: 0.6656 - val_loss: 1.6108 - val_acc: 0.4677\n",
      "Epoch 19/50\n",
      "50000/50000 [==============================] - 11s 230us/step - loss: 0.9153 - acc: 0.6746 - val_loss: 1.5375 - val_acc: 0.4822\n",
      "Epoch 20/50\n",
      "50000/50000 [==============================] - 11s 229us/step - loss: 0.9067 - acc: 0.6787 - val_loss: 1.6067 - val_acc: 0.4787\n",
      "Epoch 21/50\n",
      "50000/50000 [==============================] - 11s 227us/step - loss: 0.9040 - acc: 0.6794 - val_loss: 1.5306 - val_acc: 0.4960\n",
      "Epoch 22/50\n",
      "50000/50000 [==============================] - 11s 230us/step - loss: 0.8680 - acc: 0.6937 - val_loss: 1.6366 - val_acc: 0.4681\n",
      "Epoch 23/50\n",
      "50000/50000 [==============================] - 11s 229us/step - loss: 0.8549 - acc: 0.6954 - val_loss: 1.5388 - val_acc: 0.4992\n",
      "Epoch 24/50\n",
      "50000/50000 [==============================] - 11s 228us/step - loss: 0.8283 - acc: 0.7058 - val_loss: 1.5870 - val_acc: 0.4896\n",
      "Epoch 25/50\n",
      "50000/50000 [==============================] - 11s 228us/step - loss: 0.8153 - acc: 0.7117 - val_loss: 1.6403 - val_acc: 0.4789\n",
      "Epoch 26/50\n",
      "50000/50000 [==============================] - 11s 229us/step - loss: 0.7966 - acc: 0.7170 - val_loss: 1.7338 - val_acc: 0.4717\n",
      "Epoch 27/50\n",
      "50000/50000 [==============================] - 11s 228us/step - loss: 0.7887 - acc: 0.7206 - val_loss: 1.6063 - val_acc: 0.4962\n",
      "Epoch 28/50\n",
      "50000/50000 [==============================] - 11s 227us/step - loss: 0.7753 - acc: 0.7251 - val_loss: 1.8027 - val_acc: 0.4564\n",
      "Epoch 29/50\n",
      "50000/50000 [==============================] - 11s 230us/step - loss: 0.7578 - acc: 0.7279 - val_loss: 1.7361 - val_acc: 0.4696\n",
      "Epoch 30/50\n",
      "50000/50000 [==============================] - 11s 230us/step - loss: 0.7399 - acc: 0.7375 - val_loss: 1.7588 - val_acc: 0.4809\n",
      "Epoch 31/50\n",
      "50000/50000 [==============================] - 11s 227us/step - loss: 0.7220 - acc: 0.7418 - val_loss: 1.7253 - val_acc: 0.4837\n",
      "Epoch 32/50\n",
      "50000/50000 [==============================] - 11s 227us/step - loss: 0.7072 - acc: 0.7501 - val_loss: 1.7303 - val_acc: 0.4846\n",
      "Epoch 33/50\n",
      "50000/50000 [==============================] - 12s 231us/step - loss: 0.6908 - acc: 0.7543 - val_loss: 1.7811 - val_acc: 0.4740\n",
      "Epoch 34/50\n",
      "50000/50000 [==============================] - 11s 229us/step - loss: 0.6708 - acc: 0.7602 - val_loss: 1.7650 - val_acc: 0.4753\n",
      "Epoch 35/50\n",
      "50000/50000 [==============================] - 11s 227us/step - loss: 0.6666 - acc: 0.7625 - val_loss: 1.7788 - val_acc: 0.4830\n",
      "Epoch 36/50\n",
      "50000/50000 [==============================] - 11s 229us/step - loss: 0.6504 - acc: 0.7671 - val_loss: 2.0749 - val_acc: 0.4517\n",
      "Epoch 37/50\n",
      "50000/50000 [==============================] - 11s 229us/step - loss: 0.6491 - acc: 0.7682 - val_loss: 1.7920 - val_acc: 0.4816\n",
      "Epoch 38/50\n",
      "50000/50000 [==============================] - 11s 228us/step - loss: 0.6498 - acc: 0.7685 - val_loss: 1.8279 - val_acc: 0.4776\n",
      "Epoch 39/50\n",
      "50000/50000 [==============================] - 11s 226us/step - loss: 0.6400 - acc: 0.7711 - val_loss: 1.7975 - val_acc: 0.4747\n",
      "Epoch 40/50\n",
      "50000/50000 [==============================] - 11s 230us/step - loss: 0.6058 - acc: 0.7849 - val_loss: 1.8067 - val_acc: 0.4792\n",
      "Epoch 41/50\n",
      "50000/50000 [==============================] - 11s 229us/step - loss: 0.5948 - acc: 0.7880 - val_loss: 2.0312 - val_acc: 0.4552\n",
      "Epoch 42/50\n",
      "50000/50000 [==============================] - 11s 228us/step - loss: 0.5863 - acc: 0.7904 - val_loss: 1.9757 - val_acc: 0.4722\n",
      "Epoch 43/50\n",
      "50000/50000 [==============================] - 11s 230us/step - loss: 0.5843 - acc: 0.7931 - val_loss: 1.9349 - val_acc: 0.4816\n",
      "Epoch 44/50\n",
      "50000/50000 [==============================] - 11s 228us/step - loss: 0.5902 - acc: 0.7890 - val_loss: 1.8691 - val_acc: 0.4849\n",
      "Epoch 45/50\n",
      "50000/50000 [==============================] - 11s 229us/step - loss: 0.5644 - acc: 0.7954 - val_loss: 1.9657 - val_acc: 0.4693\n",
      "Epoch 46/50\n",
      "50000/50000 [==============================] - 11s 228us/step - loss: 0.5502 - acc: 0.8034 - val_loss: 1.8579 - val_acc: 0.4894\n",
      "Epoch 47/50\n",
      "50000/50000 [==============================] - 12s 230us/step - loss: 0.5365 - acc: 0.8095 - val_loss: 1.9879 - val_acc: 0.4718\n",
      "Epoch 48/50\n",
      "50000/50000 [==============================] - 11s 229us/step - loss: 0.5464 - acc: 0.8046 - val_loss: 1.9174 - val_acc: 0.4870\n",
      "Epoch 49/50\n"
     ]
    },
    {
     "name": "stdout",
     "output_type": "stream",
     "text": [
      "50000/50000 [==============================] - 11s 221us/step - loss: 0.5228 - acc: 0.8127 - val_loss: 2.0195 - val_acc: 0.4773\n",
      "Epoch 50/50\n",
      "50000/50000 [==============================] - 11s 224us/step - loss: 0.5239 - acc: 0.8111 - val_loss: 2.1574 - val_acc: 0.4578\n"
     ]
    }
   ],
   "source": [
    "results = {}\n",
    "\"\"\"Code Here\n",
    "撰寫你的訓練流程並將結果用 dictionary 紀錄\n",
    "\"\"\"\n",
    "for bs in itertools.product(BATCH_SIZE):\n",
    "    keras.backend.clear_session() # 把舊的 Graph 清掉\n",
    "    print(\"Experiment with BATCH_SIZE = %.6f\" % (bs))\n",
    "    model = build_mlp(input_shape=x_train.shape[1:])\n",
    "    model.summary()\n",
    "    \n",
    "    optimizer = keras.optimizers.SGD(lr=LEARNING_RATE, nesterov=True, momentum=MOMENTUM)\n",
    "    model.compile(loss=\"categorical_crossentropy\", metrics=[\"accuracy\"], optimizer=optimizer)\n",
    "\n",
    "    model.fit(x_train, y_train, \n",
    "              epochs=EPOCHS, \n",
    "              batch_size=64, \n",
    "              validation_data=(x_test, y_test), \n",
    "              shuffle=True)\n",
    "    \n",
    "    # Collect results\n",
    "    train_loss = model.history.history[\"loss\"]\n",
    "    valid_loss = model.history.history[\"val_loss\"]\n",
    "    train_acc = model.history.history[\"acc\"]\n",
    "    valid_acc = model.history.history[\"val_acc\"]\n",
    "    \n",
    "    exp_name_tag = \"exp-bs-%s\" % (str(bs))\n",
    "    results[exp_name_tag] = {'train-loss': train_loss,\n",
    "                             'valid-loss': valid_loss,\n",
    "                             'train-acc': train_acc,\n",
    "                             'valid-acc': valid_acc}"
   ]
  },
  {
   "cell_type": "code",
   "execution_count": 8,
   "metadata": {},
   "outputs": [
    {
     "data": {
      "image/png": "[encoded data removed]",
      "text/plain": [
       "<Figure size 576x432 with 1 Axes>"
      ]
     },
     "metadata": {
      "needs_background": "light"
     },
     "output_type": "display_data"
    },
    {
     "data": {
      "image/png": "[encoded data removed]",
      "text/plain": [
       "<Figure size 576x432 with 1 Axes>"
      ]
     },
     "metadata": {
      "needs_background": "light"
     },
     "output_type": "display_data"
    }
   ],
   "source": [
    "import matplotlib.pyplot as plt\n",
    "%matplotlib inline\n",
    "\"\"\"Code Here\n",
    "將結果繪出\n",
    "\"\"\"\n",
    "NUM_COLORS = len(results.keys())\n",
    "cm = plt.get_cmap('gist_rainbow')\n",
    "color_bar = [cm(1.*i/NUM_COLORS) for i in range(NUM_COLORS)]\n",
    "\n",
    "plt.figure(figsize=(8,6))\n",
    "for i, cond in enumerate(results.keys()):\n",
    "    plt.plot(range(len(results[cond]['train-loss'])),results[cond]['train-loss'], '-', label=cond, color=color_bar[i])\n",
    "    plt.plot(range(len(results[cond]['valid-loss'])),results[cond]['valid-loss'], '--', label=cond, color=color_bar[i])\n",
    "plt.title(\"Loss\")\n",
    "plt.legend(loc='center left', bbox_to_anchor=(1, 0.5))\n",
    "plt.show()\n",
    "\n",
    "plt.figure(figsize=(8,6))\n",
    "for i, cond in enumerate(results.keys()):\n",
    "    plt.plot(range(len(results[cond]['train-acc'])),results[cond]['train-acc'], '-', label=cond, color=color_bar[i])\n",
    "    plt.plot(range(len(results[cond]['valid-acc'])),results[cond]['valid-acc'], '--', label=cond, color=color_bar[i])\n",
    "plt.title(\"Accuracy\")\n",
    "plt.legend(loc='center left', bbox_to_anchor=(1, 0.5))\n",
    "plt.show()"
   ]
  },
  {
   "cell_type": "code",
   "execution_count": null,
   "metadata": {},
   "outputs": [],
   "source": []
  }
 ],
 "metadata": {
  "kernelspec": {
   "display_name": "Python 3",
   "language": "python",
   "name": "python3"
  },
  "language_info": {
   "codemirror_mode": {
    "name": "ipython",
    "version": 3
   },
   "file_extension": ".py",
   "mimetype": "text/x-python",
   "name": "python",
   "nbconvert_exporter": "python",
   "pygments_lexer": "ipython3",
   "version": "3.7.3"
  }
 },
 "nbformat": 4,
 "nbformat_minor": 2
}
