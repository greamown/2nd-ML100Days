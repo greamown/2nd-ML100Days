{
 "cells": [
  {
   "cell_type": "markdown",
   "metadata": {},
   "source": [
    "## Work\n",
    "1. 試比較 save_best_only 與否的差異\n",
    "2. 請僅存入將 save_weights_only 設定為 True, 並嘗試 reset ipynb 並將模型與權重重新建回並預測 x_test"
   ]
  },
  {
   "cell_type": "code",
   "execution_count": 1,
   "metadata": {},
   "outputs": [
    {
     "name": "stderr",
     "output_type": "stream",
     "text": [
      "Using TensorFlow backend.\n"
     ]
    }
   ],
   "source": [
    "import os\n",
    "import keras\n",
    "\n",
    "# Disable GPU\n",
    "os.environ[\"CUDA_VISIBLE_DEVICES\"] = \"\""
   ]
  },
  {
   "cell_type": "code",
   "execution_count": 2,
   "metadata": {},
   "outputs": [],
   "source": [
    "train, test = keras.datasets.cifar10.load_data()"
   ]
  },
  {
   "cell_type": "code",
   "execution_count": 3,
   "metadata": {},
   "outputs": [],
   "source": [
    "## 資料前處理\n",
    "def preproc_x(x, flatten=True):\n",
    "    x = x / 255.\n",
    "    if flatten:\n",
    "        x = x.reshape((len(x), -1))\n",
    "    return x\n",
    "\n",
    "def preproc_y(y, num_classes=10):\n",
    "    if y.shape[-1] == 1:\n",
    "        y = keras.utils.to_categorical(y, num_classes)\n",
    "    return y    "
   ]
  },
  {
   "cell_type": "code",
   "execution_count": 4,
   "metadata": {},
   "outputs": [],
   "source": [
    "x_train, y_train = train\n",
    "x_test, y_test = test\n",
    "\n",
    "# Preproc the inputs\n",
    "x_train = preproc_x(x_train)\n",
    "x_test = preproc_x(x_test)\n",
    "\n",
    "# Preprc the outputs\n",
    "y_train = preproc_y(y_train)\n",
    "y_test = preproc_y(y_test)"
   ]
  },
  {
   "cell_type": "code",
   "execution_count": 5,
   "metadata": {},
   "outputs": [],
   "source": [
    "from keras.layers import BatchNormalization\n",
    "\n",
    "\"\"\"\n",
    "建立神經網路，並加入 BN layer\n",
    "\"\"\"\n",
    "def build_mlp(input_shape, output_units=10, num_neurons=[512, 256, 128]):\n",
    "    \"\"\"Code Here\n",
    "    建立你的神經網路\n",
    "    \"\"\"\n",
    "    input_layer = keras.layers.Input(input_shape)\n",
    "    \n",
    "    for i, n_units in enumerate(num_neurons):\n",
    "        if i == 0:\n",
    "            x = keras.layers.Dense(units=n_units, \n",
    "                                   activation=\"relu\", \n",
    "                                   name=\"hidden_layer\"+str(i+1))(input_layer)\n",
    "            x = BatchNormalization()(x)\n",
    "        else:\n",
    "            x = keras.layers.Dense(units=n_units, \n",
    "                                   activation=\"relu\", \n",
    "                                   name=\"hidden_layer\"+str(i+1))(x)\n",
    "            x = BatchNormalization()(x)\n",
    "    \n",
    "    out = keras.layers.Dense(units=output_units, activation=\"softmax\", name=\"output\")(x)\n",
    "    \n",
    "    model = keras.models.Model(inputs=[input_layer], outputs=[out])\n",
    "    return model"
   ]
  },
  {
   "cell_type": "code",
   "execution_count": 6,
   "metadata": {},
   "outputs": [],
   "source": [
    "\"\"\"Code Here\n",
    "設定超參數\n",
    "\"\"\"\n",
    "LEARNING_RATE = 1e-3\n",
    "EPOCHS = 50\n",
    "BATCH_SIZE = 1024\n",
    "MOMENTUM = 0.95"
   ]
  },
  {
   "cell_type": "code",
   "execution_count": 7,
   "metadata": {},
   "outputs": [
    {
     "name": "stderr",
     "output_type": "stream",
     "text": [
      "WARNING: Logging before flag parsing goes to stderr.\n",
      "W0729 13:23:27.865726  5700 deprecation_wrapper.py:119] From C:\\ProgramData\\Anaconda3\\lib\\site-packages\\keras\\backend\\tensorflow_backend.py:74: The name tf.get_default_graph is deprecated. Please use tf.compat.v1.get_default_graph instead.\n",
      "\n",
      "W0729 13:23:27.890660  5700 deprecation_wrapper.py:119] From C:\\ProgramData\\Anaconda3\\lib\\site-packages\\keras\\backend\\tensorflow_backend.py:517: The name tf.placeholder is deprecated. Please use tf.compat.v1.placeholder instead.\n",
      "\n",
      "W0729 13:23:27.892655  5700 deprecation_wrapper.py:119] From C:\\ProgramData\\Anaconda3\\lib\\site-packages\\keras\\backend\\tensorflow_backend.py:4138: The name tf.random_uniform is deprecated. Please use tf.random.uniform instead.\n",
      "\n",
      "W0729 13:23:27.983412  5700 deprecation_wrapper.py:119] From C:\\ProgramData\\Anaconda3\\lib\\site-packages\\keras\\backend\\tensorflow_backend.py:133: The name tf.placeholder_with_default is deprecated. Please use tf.compat.v1.placeholder_with_default instead.\n",
      "\n",
      "W0729 13:23:28.191854  5700 deprecation_wrapper.py:119] From C:\\ProgramData\\Anaconda3\\lib\\site-packages\\keras\\optimizers.py:790: The name tf.train.Optimizer is deprecated. Please use tf.compat.v1.train.Optimizer instead.\n",
      "\n",
      "W0729 13:23:28.197866  5700 deprecation_wrapper.py:119] From C:\\ProgramData\\Anaconda3\\lib\\site-packages\\keras\\backend\\tensorflow_backend.py:3295: The name tf.log is deprecated. Please use tf.math.log instead.\n",
      "\n",
      "W0729 13:23:28.290619  5700 deprecation.py:323] From C:\\ProgramData\\Anaconda3\\lib\\site-packages\\tensorflow\\python\\ops\\math_grad.py:1250: add_dispatch_support.<locals>.wrapper (from tensorflow.python.ops.array_ops) is deprecated and will be removed in a future version.\n",
      "Instructions for updating:\n",
      "Use tf.where in 2.0, which has the same broadcast rule as np.where\n"
     ]
    },
    {
     "name": "stdout",
     "output_type": "stream",
     "text": [
      "_________________________________________________________________\n",
      "Layer (type)                 Output Shape              Param #   \n",
      "=================================================================\n",
      "input_1 (InputLayer)         (None, 3072)              0         \n",
      "_________________________________________________________________\n",
      "hidden_layer1 (Dense)        (None, 512)               1573376   \n",
      "_________________________________________________________________\n",
      "batch_normalization_1 (Batch (None, 512)               2048      \n",
      "_________________________________________________________________\n",
      "hidden_layer2 (Dense)        (None, 256)               131328    \n",
      "_________________________________________________________________\n",
      "batch_normalization_2 (Batch (None, 256)               1024      \n",
      "_________________________________________________________________\n",
      "hidden_layer3 (Dense)        (None, 128)               32896     \n",
      "_________________________________________________________________\n",
      "batch_normalization_3 (Batch (None, 128)               512       \n",
      "_________________________________________________________________\n",
      "output (Dense)               (None, 10)                1290      \n",
      "=================================================================\n",
      "Total params: 1,742,474\n",
      "Trainable params: 1,740,682\n",
      "Non-trainable params: 1,792\n",
      "_________________________________________________________________\n",
      "Train on 50000 samples, validate on 10000 samples\n",
      "Epoch 1/50\n",
      "50000/50000 [==============================] - 5s 96us/step - loss: 2.1782 - acc: 0.2801 - val_loss: 2.0794 - val_acc: 0.3139\n",
      "Epoch 2/50\n",
      "50000/50000 [==============================] - 4s 79us/step - loss: 1.7421 - acc: 0.3935 - val_loss: 1.7728 - val_acc: 0.3938\n",
      "Epoch 3/50\n",
      "50000/50000 [==============================] - 4s 79us/step - loss: 1.6098 - acc: 0.4379 - val_loss: 1.6951 - val_acc: 0.4149\n",
      "Epoch 4/50\n",
      "50000/50000 [==============================] - 4s 79us/step - loss: 1.5362 - acc: 0.4617 - val_loss: 1.6219 - val_acc: 0.4313\n",
      "Epoch 5/50\n",
      "50000/50000 [==============================] - 4s 78us/step - loss: 1.4782 - acc: 0.4820 - val_loss: 1.5920 - val_acc: 0.4456\n",
      "Epoch 6/50\n",
      "50000/50000 [==============================] - 4s 79us/step - loss: 1.4329 - acc: 0.4980 - val_loss: 1.5694 - val_acc: 0.4455\n",
      "Epoch 7/50\n",
      "50000/50000 [==============================] - 4s 81us/step - loss: 1.3929 - acc: 0.5126 - val_loss: 1.5346 - val_acc: 0.4648\n",
      "Epoch 8/50\n",
      "50000/50000 [==============================] - 4s 81us/step - loss: 1.3571 - acc: 0.5262 - val_loss: 1.5216 - val_acc: 0.4659\n",
      "Epoch 9/50\n",
      "50000/50000 [==============================] - 4s 80us/step - loss: 1.3253 - acc: 0.5381 - val_loss: 1.5018 - val_acc: 0.4746\n",
      "Epoch 10/50\n",
      "50000/50000 [==============================] - 4s 83us/step - loss: 1.2951 - acc: 0.5484 - val_loss: 1.4982 - val_acc: 0.4775\n",
      "Epoch 11/50\n",
      "50000/50000 [==============================] - 4s 83us/step - loss: 1.2655 - acc: 0.5594 - val_loss: 1.4832 - val_acc: 0.4791\n",
      "Epoch 12/50\n",
      "50000/50000 [==============================] - 4s 80us/step - loss: 1.2373 - acc: 0.5714 - val_loss: 1.4893 - val_acc: 0.4837\n",
      "Epoch 13/50\n",
      "50000/50000 [==============================] - 4s 81us/step - loss: 1.2123 - acc: 0.5803 - val_loss: 1.4719 - val_acc: 0.4874\n",
      "Epoch 14/50\n",
      "50000/50000 [==============================] - 4s 81us/step - loss: 1.1874 - acc: 0.5905 - val_loss: 1.4773 - val_acc: 0.4823\n",
      "Epoch 15/50\n",
      "50000/50000 [==============================] - 4s 82us/step - loss: 1.1628 - acc: 0.5995 - val_loss: 1.4544 - val_acc: 0.4944\n",
      "Epoch 16/50\n",
      "50000/50000 [==============================] - 4s 80us/step - loss: 1.1404 - acc: 0.6081 - val_loss: 1.4669 - val_acc: 0.4897\n",
      "Epoch 17/50\n",
      "50000/50000 [==============================] - 5s 92us/step - loss: 1.1178 - acc: 0.6177 - val_loss: 1.4770 - val_acc: 0.4859\n",
      "Epoch 18/50\n",
      "50000/50000 [==============================] - 4s 80us/step - loss: 1.0936 - acc: 0.6272 - val_loss: 1.4605 - val_acc: 0.4907\n",
      "Epoch 19/50\n",
      "50000/50000 [==============================] - 4s 80us/step - loss: 1.0750 - acc: 0.6340 - val_loss: 1.4513 - val_acc: 0.4939\n",
      "Epoch 20/50\n",
      "50000/50000 [==============================] - 4s 78us/step - loss: 1.0520 - acc: 0.6423 - val_loss: 1.4528 - val_acc: 0.4921\n",
      "Epoch 21/50\n",
      "50000/50000 [==============================] - 4s 81us/step - loss: 1.0293 - acc: 0.6503 - val_loss: 1.4482 - val_acc: 0.4974\n",
      "Epoch 22/50\n",
      "50000/50000 [==============================] - 4s 80us/step - loss: 1.0080 - acc: 0.6603 - val_loss: 1.4599 - val_acc: 0.4967\n",
      "Epoch 23/50\n",
      "50000/50000 [==============================] - 4s 83us/step - loss: 0.9873 - acc: 0.6688 - val_loss: 1.4758 - val_acc: 0.4941\n",
      "Epoch 24/50\n",
      "50000/50000 [==============================] - 4s 80us/step - loss: 0.9675 - acc: 0.6753 - val_loss: 1.4682 - val_acc: 0.4931\n",
      "Epoch 25/50\n",
      "50000/50000 [==============================] - 4s 80us/step - loss: 0.9457 - acc: 0.6849 - val_loss: 1.4572 - val_acc: 0.4934\n",
      "Epoch 26/50\n",
      "50000/50000 [==============================] - 4s 80us/step - loss: 0.9244 - acc: 0.6925 - val_loss: 1.4595 - val_acc: 0.4936\n",
      "Epoch 27/50\n",
      "50000/50000 [==============================] - 4s 82us/step - loss: 0.9065 - acc: 0.6984 - val_loss: 1.4696 - val_acc: 0.4986\n",
      "Epoch 28/50\n",
      "50000/50000 [==============================] - 4s 80us/step - loss: 0.8843 - acc: 0.7081 - val_loss: 1.4713 - val_acc: 0.4986\n",
      "Epoch 29/50\n",
      "50000/50000 [==============================] - 4s 79us/step - loss: 0.8653 - acc: 0.7146 - val_loss: 1.4778 - val_acc: 0.4960\n",
      "Epoch 30/50\n",
      "50000/50000 [==============================] - 4s 86us/step - loss: 0.8447 - acc: 0.7239 - val_loss: 1.4784 - val_acc: 0.4954\n",
      "Epoch 31/50\n",
      "50000/50000 [==============================] - 5s 95us/step - loss: 0.8256 - acc: 0.7295 - val_loss: 1.4794 - val_acc: 0.5035\n",
      "Epoch 32/50\n",
      "50000/50000 [==============================] - 5s 94us/step - loss: 0.8028 - acc: 0.7404 - val_loss: 1.4894 - val_acc: 0.4966\n",
      "Epoch 33/50\n",
      "50000/50000 [==============================] - 4s 85us/step - loss: 0.7850 - acc: 0.7475 - val_loss: 1.5025 - val_acc: 0.4956\n",
      "Epoch 34/50\n",
      "50000/50000 [==============================] - 4s 81us/step - loss: 0.7664 - acc: 0.7552 - val_loss: 1.5246 - val_acc: 0.4880\n",
      "Epoch 35/50\n",
      "50000/50000 [==============================] - 4s 84us/step - loss: 0.7457 - acc: 0.7621 - val_loss: 1.5175 - val_acc: 0.4994\n",
      "Epoch 36/50\n",
      "50000/50000 [==============================] - 4s 84us/step - loss: 0.7270 - acc: 0.7689 - val_loss: 1.5403 - val_acc: 0.4919\n",
      "Epoch 37/50\n",
      "50000/50000 [==============================] - 4s 81us/step - loss: 0.7083 - acc: 0.7773 - val_loss: 1.5291 - val_acc: 0.5003\n",
      "Epoch 38/50\n",
      "50000/50000 [==============================] - 4s 82us/step - loss: 0.6895 - acc: 0.7835 - val_loss: 1.5345 - val_acc: 0.4989\n",
      "Epoch 39/50\n",
      "50000/50000 [==============================] - 4s 82us/step - loss: 0.6687 - acc: 0.7923 - val_loss: 1.5414 - val_acc: 0.4984\n",
      "Epoch 40/50\n",
      "50000/50000 [==============================] - 4s 82us/step - loss: 0.6527 - acc: 0.7996 - val_loss: 1.5495 - val_acc: 0.4982\n",
      "Epoch 41/50\n",
      "50000/50000 [==============================] - 4s 81us/step - loss: 0.6320 - acc: 0.8066 - val_loss: 1.5677 - val_acc: 0.4980\n",
      "Epoch 42/50\n",
      "50000/50000 [==============================] - 4s 82us/step - loss: 0.6145 - acc: 0.8144 - val_loss: 1.5876 - val_acc: 0.4918\n",
      "Epoch 43/50\n",
      "50000/50000 [==============================] - 4s 82us/step - loss: 0.5975 - acc: 0.8204 - val_loss: 1.5893 - val_acc: 0.4888\n",
      "Epoch 44/50\n",
      "50000/50000 [==============================] - 5s 93us/step - loss: 0.5798 - acc: 0.8258 - val_loss: 1.6353 - val_acc: 0.4867\n",
      "Epoch 45/50\n",
      "50000/50000 [==============================] - 4s 88us/step - loss: 0.5626 - acc: 0.8350 - val_loss: 1.6188 - val_acc: 0.4938\n",
      "Epoch 46/50\n",
      "50000/50000 [==============================] - 4s 81us/step - loss: 0.5432 - acc: 0.8425 - val_loss: 1.6267 - val_acc: 0.4926\n",
      "Epoch 47/50\n",
      "50000/50000 [==============================] - 4s 80us/step - loss: 0.5251 - acc: 0.8504 - val_loss: 1.6504 - val_acc: 0.4901\n",
      "Epoch 48/50\n",
      "50000/50000 [==============================] - 4s 82us/step - loss: 0.5102 - acc: 0.8555 - val_loss: 1.6522 - val_acc: 0.4918\n",
      "Epoch 49/50\n",
      "50000/50000 [==============================] - 4s 83us/step - loss: 0.4919 - acc: 0.8613 - val_loss: 1.6638 - val_acc: 0.4904\n"
     ]
    },
    {
     "name": "stdout",
     "output_type": "stream",
     "text": [
      "Epoch 50/50\n",
      "50000/50000 [==============================] - 4s 83us/step - loss: 0.4768 - acc: 0.8685 - val_loss: 1.6786 - val_acc: 0.4890\n",
      "10000/10000 [==============================] - 1s 87us/step\n"
     ]
    }
   ],
   "source": [
    "# 載入 Callbacks\n",
    "\"\"\"Code Here\n",
    "設定 callbacks: model checkpoint\n",
    "\"\"\"\n",
    "from keras.callbacks import ModelCheckpoint\n",
    "\n",
    "results = {}\n",
    "\"\"\"Code Here\n",
    "撰寫你的訓練流程並將結果用 dictionary 紀錄\n",
    "\"\"\"\n",
    "model = build_mlp(input_shape=x_train.shape[1:])\n",
    "model.summary()\n",
    "optimizer = keras.optimizers.SGD(lr=LEARNING_RATE, nesterov=True, momentum=MOMENTUM)\n",
    "model.compile(loss=\"categorical_crossentropy\", metrics=[\"accuracy\"], optimizer=optimizer)\n",
    "\n",
    "model_ckpt = ModelCheckpoint(filepath=\"./tmp.h5\", \n",
    "                             monitor=\"val_loss\", \n",
    "                             save_best_only=True)\n",
    "model.fit(x_train, y_train, \n",
    "          epochs=EPOCHS, \n",
    "          batch_size=BATCH_SIZE, \n",
    "          validation_data=(x_test, y_test), \n",
    "          shuffle=True,\n",
    "          callbacks=[model_ckpt]\n",
    "         )\n",
    "\n",
    "# Collect results\n",
    "train_loss = model.history.history[\"loss\"]\n",
    "valid_loss = model.history.history[\"val_loss\"]\n",
    "train_acc = model.history.history[\"acc\"]\n",
    "valid_acc = model.history.history[\"val_acc\"]\n",
    "\n",
    "exp_name_tag = \"save_best_only=True\"\n",
    "results[exp_name_tag] = {'train-loss': train_loss,\n",
    "                         'valid-loss': valid_loss,\n",
    "                         'train-acc': train_acc,\n",
    "                         'valid-acc': valid_acc}\n",
    "\n",
    "# Load back\n",
    "model = keras.models.load_model(\"./tmp.h5\")\n",
    "loss_loadback, acc_loadback = model.evaluate(x_test, y_test)"
   ]
  },
  {
   "cell_type": "code",
   "execution_count": 8,
   "metadata": {
    "scrolled": true
   },
   "outputs": [
    {
     "data": {
      "image/png": "[encoded data removed]",
      "text/plain": [
       "<Figure size 576x432 with 1 Axes>"
      ]
     },
     "metadata": {
      "needs_background": "light"
     },
     "output_type": "display_data"
    },
    {
     "data": {
      "image/png": "[encoded data removed]",
      "text/plain": [
       "<Figure size 576x432 with 1 Axes>"
      ]
     },
     "metadata": {
      "needs_background": "light"
     },
     "output_type": "display_data"
    }
   ],
   "source": [
    "import matplotlib.pyplot as plt\n",
    "%matplotlib inline\n",
    "\"\"\"Code Here\n",
    "將結果繪出\n",
    "\"\"\"\n",
    "NUM_COLORS = len(results.keys())\n",
    "cm = plt.get_cmap('gist_rainbow')\n",
    "color_bar = [cm(1.*i/NUM_COLORS) for i in range(NUM_COLORS)]\n",
    "\n",
    "plt.figure(figsize=(8,6))\n",
    "for i, cond in enumerate(results.keys()):\n",
    "    plt.plot(range(len(results[cond]['train-loss'])),results[cond]['train-loss'], '-', label=cond, color=color_bar[i])\n",
    "    plt.plot(range(len(results[cond]['valid-loss'])),results[cond]['valid-loss'], '--', label=cond, color=color_bar[i])\n",
    "plt.title(\"Loss\")\n",
    "plt.legend(loc='center left', bbox_to_anchor=(1, 0.5))\n",
    "plt.show()\n",
    "\n",
    "plt.figure(figsize=(8,6))\n",
    "for i, cond in enumerate(results.keys()):\n",
    "    plt.plot(range(len(results[cond]['train-acc'])),results[cond]['train-acc'], '-', label=cond, color=color_bar[i])\n",
    "    plt.plot(range(len(results[cond]['valid-acc'])),results[cond]['valid-acc'], '--', label=cond, color=color_bar[i])\n",
    "plt.title(\"Accuracy\")\n",
    "plt.legend(loc='center left', bbox_to_anchor=(1, 0.5))\n",
    "plt.show()"
   ]
  },
  {
   "cell_type": "code",
   "execution_count": null,
   "metadata": {},
   "outputs": [],
   "source": []
  }
 ],
 "metadata": {
  "kernelspec": {
   "display_name": "Python 3",
   "language": "python",
   "name": "python3"
  },
  "language_info": {
   "codemirror_mode": {
    "name": "ipython",
    "version": 3
   },
   "file_extension": ".py",
   "mimetype": "text/x-python",
   "name": "python",
   "nbconvert_exporter": "python",
   "pygments_lexer": "ipython3",
   "version": "3.7.3"
  }
 },
 "nbformat": 4,
 "nbformat_minor": 2
}
